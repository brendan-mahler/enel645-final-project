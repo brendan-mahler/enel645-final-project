{
 "cells": [
  {
   "cell_type": "code",
   "execution_count": 3,
   "metadata": {},
   "outputs": [
    {
     "name": "stdout",
     "output_type": "stream",
     "text": [
      "Collecting nibabel\n",
      "  Downloading nibabel-3.2.2-py3-none-any.whl (3.3 MB)\n",
      "Requirement already satisfied: setuptools in c:\\users\\omega\\anaconda3\\envs\\enel645\\lib\\site-packages (from nibabel) (58.0.4)\n",
      "Requirement already satisfied: packaging>=14.3 in c:\\users\\omega\\anaconda3\\envs\\enel645\\lib\\site-packages (from nibabel) (21.3)\n",
      "Requirement already satisfied: numpy>=1.14 in c:\\users\\omega\\anaconda3\\envs\\enel645\\lib\\site-packages (from nibabel) (1.22.1)\n",
      "Requirement already satisfied: pyparsing!=3.0.5,>=2.0.2 in c:\\users\\omega\\anaconda3\\envs\\enel645\\lib\\site-packages (from packaging>=14.3->nibabel) (3.0.7)\n",
      "Installing collected packages: nibabel\n",
      "Successfully installed nibabel-3.2.2\n"
     ]
    }
   ],
   "source": [
    "!pip install nibabel"
   ]
  },
  {
   "cell_type": "code",
   "execution_count": 30,
   "metadata": {},
   "outputs": [],
   "source": [
    "import matplotlib.pylab as plt\n",
    "import numpy as np\n",
    "import os\n",
    "import tensorflow as tf\n",
    "from tensorflow.keras.optimizers import Adam\n",
    "from tensorflow.keras import backend as K\n",
    "import nibabel as nib\n",
    "from models import unet\n",
    "from utils import min_max_normalization"
   ]
  },
  {
   "cell_type": "code",
   "execution_count": 31,
   "metadata": {},
   "outputs": [],
   "source": [
    "def dice_coef(y_true, y_pred):\n",
    "    ''' Metric used for CNN training'''\n",
    "    smooth = 1.0 #CNN dice coefficient smooth\n",
    "    y_true_f = K.flatten(y_true)\n",
    "    y_pred_f = K.flatten(y_pred)\n",
    "    intersection = K.sum(y_true_f * y_pred_f)\n",
    "    return (2. * intersection + smooth) / (K.sum(y_true_f) + K.sum(y_pred_f) + smooth)\n",
    "\n",
    "def dice_coef_loss(y_true, y_pred):\n",
    "    ''' Loss function'''\n",
    "    return -(dice_coef(y_true, y_pred)) # try negative log of the DICE* (-tf.math.log())"
   ]
  },
  {
   "cell_type": "code",
   "execution_count": 32,
   "metadata": {},
   "outputs": [],
   "source": [
    "def pad_volume(data,multiple):\n",
    "    _,d2,d3 = data.shape\n",
    "    rem2 = multiple - d2%multiple \n",
    "    rem3 = multiple - d3%multiple\n",
    "    return np.pad(data,pad_width = ((0,0),(0,rem2),(0,rem3)))"
   ]
  },
  {
   "cell_type": "code",
   "execution_count": 33,
   "metadata": {},
   "outputs": [],
   "source": [
    "data_path = \"C:\\\\Users\\\\Omega\\\\Documents\\\\School\\\\Winter 2022\\\\enel645-final-project\\\\unet-segmentation\\\\Data\\\\Original\"\n",
    "test_files = \"C:\\\\Users\\\\Omega\\\\Documents\\\\School\\\\Winter 2022\\\\enel645-final-project\\\\unet-segmentation\\\\Data\\\\test-set.txt\"\n",
    "test_files = np.loadtxt(test_files,dtype = str)\n",
    "test_files = [os.path.join(data_path, f + \".gz\") for f in test_files]\n",
    "\n",
    "label01_path = \"C:\\\\Users\\\\Omega\\\\Documents\\\\School\\\\Winter 2022\\\\enel645-final-project\\\\unet-segmentation\\\\Data\\\\Brain-masks\"\n",
    "label01_files = \"C:\\\\Users\\\\Omega\\\\Documents\\\\School\\\\Winter 2022\\\\enel645-final-project\\\\unet-segmentation\\\\Data\\\\test-set.txt\"\n",
    "label01_files = np.loadtxt(label01_files,dtype = str)\n",
    "label01_files = [os.path.join(label01_path, f.split('.')[0] + \"_staple.nii.gz\") for f in label01_files]\n",
    "\n",
    "label02_path = \"C:\\\\Users\\\\Omega\\\\Documents\\\\School\\\\Winter 2022\\\\enel645-final-project\\\\unet-segmentation\\\\Data\\\\WM-GM-CSF\"\n",
    "label02_files = \"C:\\\\Users\\\\Omega\\\\Documents\\\\School\\\\Winter 2022\\\\enel645-final-project\\\\unet-segmentation\\\\Data\\\\test-set.txt\"\n",
    "label02_files = np.loadtxt(label02_files,dtype = str)\n",
    "label02_files = [os.path.join(label02_path, f + \".gz\") for f in label02_files]\n",
    "\n",
    "files = zip(test_files, label01_files, label02_files)\n",
    "\n",
    "multiple = 2**4 # the network has 4 max-pooling layers"
   ]
  },
  {
   "cell_type": "code",
   "execution_count": 34,
   "metadata": {},
   "outputs": [],
   "source": [
    "model_name = \"unet_multitask.h5\"\n",
    "model = unet(input_shape=(None, None, 1))\n",
    "model.load_weights(model_name)\n",
    "model.compile(loss = dice_coef_loss, optimizer=Adam())"
   ]
  },
  {
   "cell_type": "code",
   "execution_count": 37,
   "metadata": {},
   "outputs": [
    {
     "ename": "TypeError",
     "evalue": "can only concatenate str (not \"int\") to str",
     "output_type": "error",
     "traceback": [
      "\u001b[1;31m---------------------------------------------------------------------------\u001b[0m",
      "\u001b[1;31mTypeError\u001b[0m                                 Traceback (most recent call last)",
      "Input \u001b[1;32mIn [37]\u001b[0m, in \u001b[0;36m<module>\u001b[1;34m\u001b[0m\n\u001b[0;32m     18\u001b[0m pred01 \u001b[38;5;241m=\u001b[39m pred01[:,:W,:Z,\u001b[38;5;241m0\u001b[39m] \u001b[38;5;241m>\u001b[39m \u001b[38;5;241m0.5\u001b[39m\n\u001b[0;32m     19\u001b[0m pred02 \u001b[38;5;241m=\u001b[39m pred02[:,:W,:Z,:]\u001b[38;5;241m.\u001b[39margmax(axis \u001b[38;5;241m=\u001b[39m \u001b[38;5;241m-\u001b[39m\u001b[38;5;241m1\u001b[39m)\u001b[38;5;241m*\u001b[39mpred01\n\u001b[1;32m---> 21\u001b[0m \u001b[38;5;28mprint\u001b[39m(\u001b[38;5;124;43m\"\u001b[39;49m\u001b[38;5;124;43mFinished loop: \u001b[39;49m\u001b[38;5;124;43m\"\u001b[39;49m\u001b[43m \u001b[49m\u001b[38;5;241;43m+\u001b[39;49m\u001b[43m \u001b[49m\u001b[43mi\u001b[49m)\n\u001b[0;32m     22\u001b[0m scores[i] \u001b[38;5;241m=\u001b[39m dice_coef_loss(label01, pred01)\n",
      "\u001b[1;31mTypeError\u001b[0m: can only concatenate str (not \"int\") to str"
     ]
    }
   ],
   "source": [
    "idx = 120\n",
    "scores = np.array(48)\n",
    "\n",
    "for i, (ii, jj, kk) in enumerate(zip(test_files, label01_files, label02_files)):\n",
    "    data = nib.load(ii).get_fdata()\n",
    "    label01 = nib.load(jj).get_fdata()\n",
    "    label02 = nib.load(kk).get_fdata()\n",
    "    \n",
    "    data = min_max_normalization(data)\n",
    "    data = data.transpose(2,0,1) # axial slices first\n",
    "    label01 = label01.transpose(2,0,1) # axial slices first\n",
    "    label02 = label02.transpose(2,0,1) # axial slices first\n",
    "    \n",
    "    \n",
    "    H,W,Z = data.shape\n",
    "    data_padded = pad_volume(data,16)\n",
    "    pred01,pred02 = model.predict(data_padded[:,:,:,np.newaxis])\n",
    "    pred01 = pred01[:,:W,:Z,0] > 0.5\n",
    "    pred02 = pred02[:,:W,:Z,:].argmax(axis = -1)*pred01\n",
    "    \n",
    "    print(\"Finished loop: \" + str(i))\n",
    "    scores[i] = dice_coef_loss(label01, pred01)\n",
    "    \n",
    "    # print(score01)\n",
    "    \n",
    "    # score01 = model.evaluate(data_padded[:,:,:,np.newaxis], \n",
    "    # score02 = model.evaluate(data_padded[:,:,:,np.newaxis], \n",
    "    # plt.figure()\n",
    "    # plt.imshow(data[idx], cmap = \"gray\")\n",
    "    # plt.imshow(pred01[idx], alpha = 0.5)\n",
    "    # plt.show()\n",
    "    # plt.figure()\n",
    "    # plt.imshow(data[idx], cmap = \"gray\")\n",
    "    # plt.imshow(pred02[idx], alpha = 0.5)\n",
    "    # plt.show()    "
   ]
  },
  {
   "cell_type": "code",
   "execution_count": 21,
   "metadata": {},
   "outputs": [
    {
     "ename": "NameError",
     "evalue": "in user code:\n\n    File \"C:\\Users\\Omega\\anaconda3\\envs\\enel645\\lib\\site-packages\\keras\\engine\\training.py\", line 1366, in test_function  *\n        return step_function(self, iterator)\n    File \"C:\\Users\\Omega\\AppData\\Local\\Temp\\ipykernel_16100\\3536399664.py\", line 11, in dice_coef_loss  *\n        return -(dice_coef(y_true, y_pred)) # try negative log of the DICE* (-tf.math.log())\n    File \"C:\\Users\\Omega\\AppData\\Local\\Temp\\ipykernel_16100\\3536399664.py\", line 4, in dice_coef  *\n        y_true_f = K.flatten(y_true)\n\n    NameError: name 'K' is not defined\n",
     "output_type": "error",
     "traceback": [
      "\u001b[1;31m---------------------------------------------------------------------------\u001b[0m",
      "\u001b[1;31mNameError\u001b[0m                                 Traceback (most recent call last)",
      "Input \u001b[1;32mIn [21]\u001b[0m, in \u001b[0;36m<module>\u001b[1;34m\u001b[0m\n\u001b[1;32m----> 1\u001b[0m score01 \u001b[38;5;241m=\u001b[39m \u001b[43mmodel\u001b[49m\u001b[38;5;241;43m.\u001b[39;49m\u001b[43mevaluate\u001b[49m\u001b[43m(\u001b[49m\u001b[43mdata_padded\u001b[49m\u001b[43m[\u001b[49m\u001b[43m:\u001b[49m\u001b[43m,\u001b[49m\u001b[43m:\u001b[49m\u001b[43m,\u001b[49m\u001b[43m:\u001b[49m\u001b[43m,\u001b[49m\u001b[43mnp\u001b[49m\u001b[38;5;241;43m.\u001b[39;49m\u001b[43mnewaxis\u001b[49m\u001b[43m]\u001b[49m\u001b[43m,\u001b[49m\u001b[43m \u001b[49m\u001b[43mlabel01\u001b[49m\u001b[43m[\u001b[49m\u001b[43m:\u001b[49m\u001b[43m,\u001b[49m\u001b[43m:\u001b[49m\u001b[43m,\u001b[49m\u001b[43m:\u001b[49m\u001b[43m,\u001b[49m\u001b[43mnp\u001b[49m\u001b[38;5;241;43m.\u001b[39;49m\u001b[43mnewaxis\u001b[49m\u001b[43m]\u001b[49m\u001b[43m)\u001b[49m\n",
      "File \u001b[1;32m~\\anaconda3\\envs\\enel645\\lib\\site-packages\\keras\\utils\\traceback_utils.py:67\u001b[0m, in \u001b[0;36mfilter_traceback.<locals>.error_handler\u001b[1;34m(*args, **kwargs)\u001b[0m\n\u001b[0;32m     65\u001b[0m \u001b[38;5;28;01mexcept\u001b[39;00m \u001b[38;5;167;01mException\u001b[39;00m \u001b[38;5;28;01mas\u001b[39;00m e:  \u001b[38;5;66;03m# pylint: disable=broad-except\u001b[39;00m\n\u001b[0;32m     66\u001b[0m   filtered_tb \u001b[38;5;241m=\u001b[39m _process_traceback_frames(e\u001b[38;5;241m.\u001b[39m__traceback__)\n\u001b[1;32m---> 67\u001b[0m   \u001b[38;5;28;01mraise\u001b[39;00m e\u001b[38;5;241m.\u001b[39mwith_traceback(filtered_tb) \u001b[38;5;28;01mfrom\u001b[39;00m \u001b[38;5;28mNone\u001b[39m\n\u001b[0;32m     68\u001b[0m \u001b[38;5;28;01mfinally\u001b[39;00m:\n\u001b[0;32m     69\u001b[0m   \u001b[38;5;28;01mdel\u001b[39;00m filtered_tb\n",
      "File \u001b[1;32m~\\anaconda3\\envs\\enel645\\lib\\site-packages\\tensorflow\\python\\framework\\func_graph.py:1129\u001b[0m, in \u001b[0;36mfunc_graph_from_py_func.<locals>.autograph_handler\u001b[1;34m(*args, **kwargs)\u001b[0m\n\u001b[0;32m   1127\u001b[0m \u001b[38;5;28;01mexcept\u001b[39;00m \u001b[38;5;167;01mException\u001b[39;00m \u001b[38;5;28;01mas\u001b[39;00m e:  \u001b[38;5;66;03m# pylint:disable=broad-except\u001b[39;00m\n\u001b[0;32m   1128\u001b[0m   \u001b[38;5;28;01mif\u001b[39;00m \u001b[38;5;28mhasattr\u001b[39m(e, \u001b[38;5;124m\"\u001b[39m\u001b[38;5;124mag_error_metadata\u001b[39m\u001b[38;5;124m\"\u001b[39m):\n\u001b[1;32m-> 1129\u001b[0m     \u001b[38;5;28;01mraise\u001b[39;00m e\u001b[38;5;241m.\u001b[39mag_error_metadata\u001b[38;5;241m.\u001b[39mto_exception(e)\n\u001b[0;32m   1130\u001b[0m   \u001b[38;5;28;01melse\u001b[39;00m:\n\u001b[0;32m   1131\u001b[0m     \u001b[38;5;28;01mraise\u001b[39;00m\n",
      "\u001b[1;31mNameError\u001b[0m: in user code:\n\n    File \"C:\\Users\\Omega\\anaconda3\\envs\\enel645\\lib\\site-packages\\keras\\engine\\training.py\", line 1366, in test_function  *\n        return step_function(self, iterator)\n    File \"C:\\Users\\Omega\\AppData\\Local\\Temp\\ipykernel_16100\\3536399664.py\", line 11, in dice_coef_loss  *\n        return -(dice_coef(y_true, y_pred)) # try negative log of the DICE* (-tf.math.log())\n    File \"C:\\Users\\Omega\\AppData\\Local\\Temp\\ipykernel_16100\\3536399664.py\", line 4, in dice_coef  *\n        y_true_f = K.flatten(y_true)\n\n    NameError: name 'K' is not defined\n"
     ]
    }
   ],
   "source": [
    "print(scores.mean)"
   ]
  },
  {
   "cell_type": "code",
   "execution_count": null,
   "metadata": {},
   "outputs": [],
   "source": []
  }
 ],
 "metadata": {
  "kernelspec": {
   "display_name": "Python 3 (ipykernel)",
   "language": "python",
   "name": "python3"
  },
  "language_info": {
   "codemirror_mode": {
    "name": "ipython",
    "version": 3
   },
   "file_extension": ".py",
   "mimetype": "text/x-python",
   "name": "python",
   "nbconvert_exporter": "python",
   "pygments_lexer": "ipython3",
   "version": "3.8.12"
  }
 },
 "nbformat": 4,
 "nbformat_minor": 4
}
